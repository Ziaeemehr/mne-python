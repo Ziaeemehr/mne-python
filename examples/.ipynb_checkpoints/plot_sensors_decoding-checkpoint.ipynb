{
 "cells": [
  {
   "cell_type": "code",
   "execution_count": 2,
   "metadata": {},
   "outputs": [],
   "source": [
    "%matplotlib inline"
   ]
  },
  {
   "cell_type": "markdown",
   "metadata": {},
   "source": [
    "\n",
    "# Decoding sensor space data\n",
    "\n",
    "\n",
    "Decoding, a.k.a MVPA or supervised machine learning applied to MEG\n",
    "data in sensor space. Here the classifier is applied to every time\n",
    "point.\n",
    "\n"
   ]
  },
  {
   "cell_type": "code",
   "execution_count": 6,
   "metadata": {},
   "outputs": [],
   "source": [
    "import numpy as np\n",
    "import matplotlib.pyplot as plt\n",
    "\n",
    "from sklearn.metrics import roc_auc_score\n",
    "from sklearn.model_selection import StratifiedKFold\n",
    "\n",
    "import mne\n",
    "from mne.datasets import sample\n",
    "# from mne.decoding import TimeDecoding, GeneralizationAcrossTime\n",
    "\n",
    "data_path = sample.data_path()\n",
    "\n",
    "plt.close('all')"
   ]
  },
  {
   "cell_type": "markdown",
   "metadata": {},
   "source": [
    "Set parameters\n",
    "\n"
   ]
  },
  {
   "cell_type": "code",
   "execution_count": 7,
   "metadata": {},
   "outputs": [],
   "source": [
    "raw_fname = data_path + '/MEG/sample/sample_audvis_filt-0-40_raw.fif'\n",
    "event_fname = data_path + '/MEG/sample/sample_audvis_filt-0-40_raw-eve.fif'\n",
    "tmin, tmax = -0.2, 0.5\n",
    "event_id = dict(aud_l=1, vis_l=3)\n",
    "\n",
    "# Setup for reading the raw data\n",
    "raw = mne.io.read_raw_fif(raw_fname, preload=True)\n",
    "raw.filter(2, None)  # replace baselining with high-pass\n",
    "events = mne.read_events(event_fname)\n",
    "\n",
    "# Set up pick list: EEG + MEG - bad channels (modify to your needs)\n",
    "raw.info['bads'] += ['MEG 2443', 'EEG 053']  # bads + 2 more\n",
    "picks = mne.pick_types(raw.info, meg='grad', eeg=False, stim=True, eog=True,\n",
    "                       exclude='bads')\n",
    "\n",
    "# Read epochs\n",
    "epochs = mne.Epochs(raw, events, event_id, tmin, tmax, proj=True,\n",
    "                    picks=picks, baseline=None, preload=True,\n",
    "                    reject=dict(grad=4000e-13, eog=150e-6))\n",
    "\n",
    "epochs_list = [epochs[k] for k in event_id]\n",
    "mne.epochs.equalize_epoch_counts(epochs_list)\n",
    "data_picks = mne.pick_types(epochs.info, meg=True, exclude='bads')"
   ]
  },
  {
   "cell_type": "markdown",
   "metadata": {},
   "source": [
    "Temporal decoding\n",
    "-----------------\n",
    "\n",
    "We'll use the default classifer for a binary classification problem\n",
    "which is a linear Support Vector Machine (SVM).\n",
    "\n"
   ]
  },
  {
   "cell_type": "code",
   "execution_count": 8,
   "metadata": {},
   "outputs": [
    {
     "ename": "NameError",
     "evalue": "name 'TimeDecoding' is not defined",
     "output_type": "error",
     "traceback": [
      "\u001b[0;31m---------------------------------------------------------------------------\u001b[0m",
      "\u001b[0;31mNameError\u001b[0m                                 Traceback (most recent call last)",
      "\u001b[0;32m<ipython-input-8-0361988620c9>\u001b[0m in \u001b[0;36m<module>\u001b[0;34m\u001b[0m\n\u001b[0;32m----> 1\u001b[0;31m \u001b[0mtd\u001b[0m \u001b[0;34m=\u001b[0m \u001b[0mTimeDecoding\u001b[0m\u001b[0;34m(\u001b[0m\u001b[0mpredict_mode\u001b[0m\u001b[0;34m=\u001b[0m\u001b[0;34m'cross-validation'\u001b[0m\u001b[0;34m,\u001b[0m \u001b[0mn_jobs\u001b[0m\u001b[0;34m=\u001b[0m\u001b[0;36m1\u001b[0m\u001b[0;34m)\u001b[0m\u001b[0;34m\u001b[0m\u001b[0;34m\u001b[0m\u001b[0m\n\u001b[0m\u001b[1;32m      2\u001b[0m \u001b[0;34m\u001b[0m\u001b[0m\n\u001b[1;32m      3\u001b[0m \u001b[0;31m# Fit\u001b[0m\u001b[0;34m\u001b[0m\u001b[0;34m\u001b[0m\u001b[0;34m\u001b[0m\u001b[0m\n\u001b[1;32m      4\u001b[0m \u001b[0mtd\u001b[0m\u001b[0;34m.\u001b[0m\u001b[0mfit\u001b[0m\u001b[0;34m(\u001b[0m\u001b[0mepochs\u001b[0m\u001b[0;34m)\u001b[0m\u001b[0;34m\u001b[0m\u001b[0;34m\u001b[0m\u001b[0m\n\u001b[1;32m      5\u001b[0m \u001b[0;34m\u001b[0m\u001b[0m\n",
      "\u001b[0;31mNameError\u001b[0m: name 'TimeDecoding' is not defined"
     ]
    }
   ],
   "source": [
    "td = TimeDecoding(predict_mode='cross-validation', n_jobs=1)\n",
    "\n",
    "# Fit\n",
    "td.fit(epochs)\n",
    "\n",
    "# Compute accuracy\n",
    "td.score(epochs)\n",
    "\n",
    "# Plot scores across time\n",
    "td.plot(title='Sensor space decoding')"
   ]
  },
  {
   "cell_type": "markdown",
   "metadata": {},
   "source": [
    "Generalization Across Time\n",
    "--------------------------\n",
    "\n",
    "This runs the analysis used in [1]_ and further detailed in [2]_\n",
    "\n",
    "Here we'll use a stratified cross-validation scheme.\n",
    "\n"
   ]
  },
  {
   "cell_type": "code",
   "execution_count": 9,
   "metadata": {},
   "outputs": [
    {
     "ename": "TypeError",
     "evalue": "__init__() got an unexpected keyword argument 'y'",
     "output_type": "error",
     "traceback": [
      "\u001b[0;31m---------------------------------------------------------------------------\u001b[0m",
      "\u001b[0;31mTypeError\u001b[0m                                 Traceback (most recent call last)",
      "\u001b[0;32m<ipython-input-9-bdc8b00bfa05>\u001b[0m in \u001b[0;36m<module>\u001b[0;34m\u001b[0m\n\u001b[1;32m      2\u001b[0m \u001b[0my\u001b[0m \u001b[0;34m=\u001b[0m \u001b[0mnp\u001b[0m\u001b[0;34m.\u001b[0m\u001b[0mzeros\u001b[0m\u001b[0;34m(\u001b[0m\u001b[0mlen\u001b[0m\u001b[0;34m(\u001b[0m\u001b[0mepochs\u001b[0m\u001b[0;34m.\u001b[0m\u001b[0mevents\u001b[0m\u001b[0;34m)\u001b[0m\u001b[0;34m,\u001b[0m \u001b[0mdtype\u001b[0m\u001b[0;34m=\u001b[0m\u001b[0mint\u001b[0m\u001b[0;34m)\u001b[0m\u001b[0;34m\u001b[0m\u001b[0;34m\u001b[0m\u001b[0m\n\u001b[1;32m      3\u001b[0m \u001b[0my\u001b[0m\u001b[0;34m[\u001b[0m\u001b[0mepochs\u001b[0m\u001b[0;34m.\u001b[0m\u001b[0mevents\u001b[0m\u001b[0;34m[\u001b[0m\u001b[0;34m:\u001b[0m\u001b[0;34m,\u001b[0m \u001b[0;36m2\u001b[0m\u001b[0;34m]\u001b[0m \u001b[0;34m==\u001b[0m \u001b[0;36m3\u001b[0m\u001b[0;34m]\u001b[0m \u001b[0;34m=\u001b[0m \u001b[0;36m1\u001b[0m\u001b[0;34m\u001b[0m\u001b[0;34m\u001b[0m\u001b[0m\n\u001b[0;32m----> 4\u001b[0;31m \u001b[0mcv\u001b[0m \u001b[0;34m=\u001b[0m \u001b[0mStratifiedKFold\u001b[0m\u001b[0;34m(\u001b[0m\u001b[0my\u001b[0m\u001b[0;34m=\u001b[0m\u001b[0my\u001b[0m\u001b[0;34m)\u001b[0m  \u001b[0;31m# do a stratified cross-validation\u001b[0m\u001b[0;34m\u001b[0m\u001b[0;34m\u001b[0m\u001b[0m\n\u001b[0m\u001b[1;32m      5\u001b[0m \u001b[0;34m\u001b[0m\u001b[0m\n\u001b[1;32m      6\u001b[0m \u001b[0;31m# define the GeneralizationAcrossTime object\u001b[0m\u001b[0;34m\u001b[0m\u001b[0;34m\u001b[0m\u001b[0;34m\u001b[0m\u001b[0m\n",
      "\u001b[0;31mTypeError\u001b[0m: __init__() got an unexpected keyword argument 'y'"
     ]
    }
   ],
   "source": [
    "# make response vector\n",
    "y = np.zeros(len(epochs.events), dtype=int)\n",
    "y[epochs.events[:, 2] == 3] = 1\n",
    "cv = StratifiedKFold(y=y)  # do a stratified cross-validation\n",
    "\n",
    "# define the GeneralizationAcrossTime object\n",
    "gat = GeneralizationAcrossTime(predict_mode='cross-validation', n_jobs=1,\n",
    "                               cv=cv, scorer=roc_auc_score)\n",
    "\n",
    "# fit and score\n",
    "gat.fit(epochs, y=y)\n",
    "gat.score(epochs)\n",
    "\n",
    "# let's visualize now\n",
    "gat.plot()\n",
    "gat.plot_diagonal()"
   ]
  },
  {
   "cell_type": "markdown",
   "metadata": {},
   "source": [
    "Exercise\n",
    "--------\n",
    " - Can you improve the performance using full epochs and a common spatial\n",
    "   pattern (CSP) used by most BCI systems?\n",
    " - Explore other datasets from MNE (e.g. Face dataset from SPM to predict\n",
    "   Face vs. Scrambled)\n",
    "\n",
    "Have a look at the example\n",
    "`sphx_glr_auto_examples_decoding_plot_decoding_csp_space.py`\n",
    "\n",
    "References\n",
    "==========\n",
    "\n",
    ".. [1] Jean-Remi King, Alexandre Gramfort, Aaron Schurger, Lionel Naccache\n",
    "       and Stanislas Dehaene, \"Two distinct dynamic modes subtend the\n",
    "       detection of unexpected sounds\", PLOS ONE, 2013,\n",
    "       http://www.ncbi.nlm.nih.gov/pubmed/24475052\n",
    "\n",
    ".. [2] King & Dehaene (2014) 'Characterizing the dynamics of mental\n",
    "       representations: the temporal generalization method', Trends In\n",
    "       Cognitive Sciences, 18(4), 203-210.\n",
    "       http://www.ncbi.nlm.nih.gov/pubmed/24593982\n",
    "\n"
   ]
  },
  {
   "cell_type": "code",
   "execution_count": null,
   "metadata": {},
   "outputs": [],
   "source": []
  }
 ],
 "metadata": {
  "kernelspec": {
   "display_name": "Python 3.6.9 64-bit",
   "language": "python",
   "name": "python36964bit057198969e4a45748e1a89b322631a22"
  },
  "language_info": {
   "codemirror_mode": {
    "name": "ipython",
    "version": 3
   },
   "file_extension": ".py",
   "mimetype": "text/x-python",
   "name": "python",
   "nbconvert_exporter": "python",
   "pygments_lexer": "ipython3",
   "version": "3.6.9"
  }
 },
 "nbformat": 4,
 "nbformat_minor": 1
}
